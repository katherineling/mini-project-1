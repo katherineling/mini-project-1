{
 "cells": [
  {
   "cell_type": "code",
   "execution_count": null,
   "metadata": {},
   "outputs": [
    {
     "name": "stdout",
     "output_type": "stream",
     "text": [
      "Hello, welcome to hangman!\n",
      "------\n",
      "ribbon\n",
      "Try to guess the word above. You have 15 tries!\n"
     ]
    }
   ],
   "source": [
    "#HangmanGame\n",
    "\n",
    "\n",
    "import random\n",
    "import re\n",
    "\n",
    "word_list = ['radio', 'dog', 'wallet', 'shower', 'butterfly', 'ribbon', 'screen', 'poor', 'bridge', 'brave']\n",
    "\n",
    "secret_word = random.choice(word_list) #choose random word from word list\n",
    "\n",
    "#print(secret_word)\n",
    "\n",
    "secret_word_length = len(secret_word)\n",
    "    \n",
    "hidden_secret_word = \"-\"*secret_word_length\n",
    "\n",
    "guessed_letters = range(15)\n",
    "\n",
    "already_guessed = []\n",
    "\n",
    "correct_guesses = []\n",
    "\n",
    "\n",
    "def hangman():\n",
    "    print(\"Hello, welcome to hangman!\")\n",
    "    print(hidden_secret_word)\n",
    "    print(secret_word)\n",
    "    print(\"Try to guess the word above. You have 15 tries!\")\n",
    "    for i in guessed_letters:\n",
    "        guess = input('Guess a letter: ')\n",
    "        if len(guess) !=1: #checks to see if player entered in just one character or not\n",
    "            print(\"please enter in no more than 1 letter\")\n",
    "            guess = input('Guess a letter: ')\n",
    "        if guess.isalpha() !=True: #checks to see if player entered in a letter or not\n",
    "            raise ValueError(\"You did not enter a letter. Try again.\") #returns error if entry is not a letter, not sure how to get it to loop back up\n",
    "            print(guess)\n",
    "        else:\n",
    "            if guess in secret_word:\n",
    "                print(\"You've guessed correctly!\")\n",
    "                correct_letter = (re.findall(guess, secret_word))  #find all letters in hidden word that match with guessed letter\n",
    "                correct_guesses.append(correct_letter) #not sure how to match correct guessed letter with appropriate index in secret word...need to convert to dictionary first??\n",
    "                print(correct_guesses)\n",
    "                #correct_guesses.append(guess)\n",
    "                #print(correct_guesses)\n",
    "            else:\n",
    "                print(\"Incorrect letter guessed. Try again!\")\n",
    "                \n",
    "hangman()\n",
    " \n",
    "\n"
   ]
  },
  {
   "cell_type": "code",
   "execution_count": null,
   "metadata": {},
   "outputs": [],
   "source": []
  }
 ],
 "metadata": {
  "kernelspec": {
   "display_name": "Python 3",
   "language": "python",
   "name": "python3"
  },
  "language_info": {
   "codemirror_mode": {
    "name": "ipython",
    "version": 3
   },
   "file_extension": ".py",
   "mimetype": "text/x-python",
   "name": "python",
   "nbconvert_exporter": "python",
   "pygments_lexer": "ipython3",
   "version": "3.7.4"
  }
 },
 "nbformat": 4,
 "nbformat_minor": 2
}
